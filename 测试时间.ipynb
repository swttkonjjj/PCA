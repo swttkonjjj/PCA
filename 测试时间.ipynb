{
 "cells": [
  {
   "cell_type": "code",
   "execution_count": 33,
   "metadata": {},
   "outputs": [],
   "source": [
    "import numpy as np\n",
    "import numpy.linalg as linalg\n",
    "import matplotlib.pyplot as plt\n",
    "import cv2\n",
    "import random\n",
    "import time\n",
    "%matplotlib inline\n",
    "start = 0\n",
    "end = 0\n",
    "# from matplotlib.font_manager import FontProperties\n",
    "# from numpy.core.fromnumeric import mean  # 字体管理器\n",
    "# 设置汉字格式\n",
    "# font = FontProperties(fname=r\"c:\\windows\\fonts\\simsun.ttc\", size=15)"
   ]
  },
  {
   "cell_type": "code",
   "execution_count": 34,
   "metadata": {},
   "outputs": [],
   "source": [
    "def knn(inX, dataSet, labels, k):\n",
    "    global start\n",
    "    start= time.time()\n",
    "    inX = np.array(inX)\n",
    "    dataSet = np.array(dataSet)\n",
    "    labels = np.array(labels)\n",
    "\n",
    "    dataSetSize = dataSet.shape[0]\n",
    "    diffMat = np.tile(inX, (dataSetSize, 1)) - dataSet\n",
    "    sqDiffMat = diffMat ** 2\n",
    "    sqDistance = sqDiffMat.sum(axis=1)\n",
    "    distance = sqDistance ** 0.5\n",
    "    sorteedDisttTndices = distance.argsort()\n",
    "    classCount = {}\n",
    "    for i in range(k):\n",
    "        voteIlabel = labels[sorteedDisttTndices[i]]\n",
    "        classCount[voteIlabel] = classCount.get(voteIlabel, 0) + 1\n",
    "    sortedClassCount = sorted(\n",
    "        classCount.items(), key=lambda d: d[1], reverse=True)\n",
    "    global end\n",
    "    end= time.time()\n",
    "    return sortedClassCount[0][0]"
   ]
  },
  {
   "cell_type": "code",
   "execution_count": 35,
   "metadata": {},
   "outputs": [],
   "source": [
    "def pca(date_mat, max_rank=200):\n",
    "    date_mat = np.float32(np.mat(date_mat))\n",
    "    mean_value = np.mean(date_mat, axis=0)\n",
    "    mean_removed = date_mat - mean_value\n",
    "    # cov_mat = mean_removed * mean_removed.T\n",
    "    # print(mean_removed.shape)\n",
    "    cov_mat = np.cov(mean_removed, rowvar=0)\n",
    "    # print(cov_mat.shape)\n",
    "    eig_vals, eig_vects = np.linalg.eig(cov_mat)\n",
    "    sort_vals = np.argsort(eig_vals)\n",
    "    select_vals = sort_vals[: -(max_rank + 1): -1]\n",
    "    select_vects = eig_vects[:, select_vals]\n",
    "    # select_vects = mean_removed.T * select_vects\n",
    "    lowD = mean_removed * select_vects\n",
    "    return lowD, select_vects, mean_value"
   ]
  },
  {
   "cell_type": "code",
   "execution_count": 36,
   "metadata": {},
   "outputs": [],
   "source": [
    "def loadData(test_image_path, data_path=\"orl_faces\"):\n",
    "    train_data = []\n",
    "    train_lable = []\n",
    "    test_data = []\n",
    "    test_data.append(loadImage(test_image_path))\n",
    "    # for train_item in train:\n",
    "    for i in range(1, 41):\n",
    "        train_path = data_path + \"/s\" + str(i)\n",
    "        for j in range(1, 11):\n",
    "            train_image_path = train_path + \"/\" + str(j) + \".pgm\"\n",
    "            if test_image_path == train_image_path:\n",
    "                continue\n",
    "            # print(train_image_path)\n",
    "            train_data.append(loadImage(train_image_path))\n",
    "            train_lable.append(train_path)\n",
    "    return train_data, train_lable, test_data"
   ]
  },
  {
   "cell_type": "code",
   "execution_count": 37,
   "metadata": {},
   "outputs": [],
   "source": [
    "def loadImage(image_path):\n",
    "    # print(image_path)\n",
    "    image = cv2.imread(image_path, -1)\n",
    "    image = cv2.resize(image, None, fx=0.2, fy=0.2)\n",
    "    # print(image.shape)\n",
    "    # cv2.imshow(image)\n",
    "    image = image.flatten()\n",
    "    return image"
   ]
  },
  {
   "cell_type": "code",
   "execution_count": 38,
   "metadata": {},
   "outputs": [],
   "source": [
    "def main(rank):\n",
    "    person = random.randint(1, 40)\n",
    "    picture = random.randint(1, 10)\n",
    "    test_lable = \"orl_faces/s\" + str(person)\n",
    "    test_face = test_lable + \"/\" + str(picture) + \".pgm\"\n",
    "    train_data, train_lable, test_data = loadData(test_face)\n",
    "    lowD, select_vects, mean_value = pca(train_data,max_rank=rank )\n",
    "    test_data -= mean_value\n",
    "    test_data = np.mat(test_data) * np.mat(select_vects)\n",
    "    best_match = knn(test_data, lowD, train_lable, 1)\n",
    "    \n",
    "    accuracy = [0,0]\n",
    "    if best_match == test_lable:\n",
    "        accuracy[0] += 1\n",
    "    else:\n",
    "        accuracy[1] += 1\n",
    "        \n",
    "    return accuracy[0] / (accuracy[0] + accuracy[1])"
   ]
  },
  {
   "cell_type": "code",
   "execution_count": 39,
   "metadata": {
    "scrolled": true
   },
   "outputs": [],
   "source": [
    "# %timeit main()"
   ]
  },
  {
   "cell_type": "code",
   "execution_count": 40,
   "metadata": {
    "scrolled": true
   },
   "outputs": [
    {
     "name": "stdout",
     "output_type": "stream",
     "text": [
      "[12.5, 97.0, 98.5, 98.5, 96.0, 97.0, 97.0, 97.5, 96.5, 96.5]\n"
     ]
    },
    {
     "data": {
      "image/png": "[encoded data removed]",
      "text/plain": [
       "<matplotlib.figure.Figure at 0x7f7879eca668>"
      ]
     },
     "metadata": {},
     "output_type": "display_data"
    }
   ],
   "source": [
    "plt.figure(1)\n",
    "t = []\n",
    "m = []\n",
    "rate, ends, starts = 0, 0, 0\n",
    "\n",
    "accuracy = []\n",
    "for i in range(1,100, 10):\n",
    "    rate, ends, starts = 0, 0, 0\n",
    "    for j in range(200):\n",
    "        rate += main(i)\n",
    "        ends += end\n",
    "        starts += start\n",
    "    accuracy.append(rate / 2)\n",
    "    t.append((ends - starts)/3)\n",
    "    m.append(i)\n",
    "    \n",
    "plt.subplot(121)  \n",
    "plt.plot(m,t, \".-\")\n",
    "plt.subplot(122) \n",
    "plt.plot(m,accuracy,\".-\")\n",
    "plt.draw()#注意此函数需要调用\n",
    "print(accuracy)\n"
   ]
  },
  {
   "cell_type": "markdown",
   "metadata": {},
   "source": [
    "# 实验结果\n",
    "\n",
    "ORL数据库\n",
    "\n",
    "图像112 * 92 \n",
    "\n",
    "40人每人10幅图像\n",
    "\n",
    "不同特征维数在ORL人脸数据库重的识别率比较\n",
    "\n",
    "| 选取子空间维数 | 正确识别 | 识别率/% |\n",
    "| :------------: | :------: | :------: |\n",
    "|       1        |    25    |   12.5   |\n",
    "|       11       |   194    |   97.0   |\n",
    "|       21       |   197    |   98.5   |\n",
    "|       31       |   197    |   98.5   |\n",
    "|       41       |   192    |   96.0   |\n",
    "|       51       |   194    |   97.0   |\n",
    "|       61       |   194    |   97.0   |\n",
    "|       71       |   195    |   97.5   |\n",
    "|       81       |   193    |   96.5   |\n",
    "|       91       |   193    |   96.5   |"
   ]
  }
 ],
 "metadata": {
  "interpreter": {
   "hash": "4ce0e62306dd6a5716965d4519ada776f947e6dfc145b604b11307c10277ef29"
  },
  "kernelspec": {
   "display_name": "Python 3",
   "language": "python",
   "name": "python3"
  },
  "language_info": {
   "codemirror_mode": {
    "name": "ipython",
    "version": 3
   },
   "file_extension": ".py",
   "mimetype": "text/x-python",
   "name": "python",
   "nbconvert_exporter": "python",
   "pygments_lexer": "ipython3",
   "version": "3.6.2"
  }
 },
 "nbformat": 4,
 "nbformat_minor": 2
}
