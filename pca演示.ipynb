{
 "cells": [
  {
   "cell_type": "markdown",
   "metadata": {},
   "source": [
    "# PCA\n",
    "\n",
    "主成分分析（**Principal components analysis**）\n",
    "\n",
    "PCA是一种常见的数据分析方式，常用于高维数据的降维，降维在一定的信息损失范围内，可以为我们节省大量的时间和成本。\n",
    "\n",
    "- 使得数据集更易使用。\n",
    "- 降低算法的计算开销。\n",
    "- 去除噪声。\n",
    "- 使得结果容易理解。\n",
    "  \n",
    "这里有一个二维的数据\n",
    "\n",
    "|  x   |  y   |\n",
    "| :--: | :--: |\n",
    "| 2.5  | 2.4  |\n",
    "| 0.5  | 0.7  |\n",
    "| 2.2  | 2.9  |\n",
    "| 1.9  | 2.2  |\n",
    "| 3.1  | 3.0  |\n",
    "| 2.3  | 2.7  |\n",
    "|  2   | 1.6  |\n",
    "|  1   | 1.1  |\n",
    "| 1.5  | 1.6  |\n",
    "| 1.1  | 0.9  |"
   ]
  },
  {
   "cell_type": "code",
   "execution_count": 11,
   "metadata": {},
   "outputs": [],
   "source": [
    "import numpy as np\n",
    "%matplotlib inline\n",
    "import matplotlib.pyplot as plt"
   ]
  },
  {
   "cell_type": "code",
   "execution_count": 12,
   "metadata": {},
   "outputs": [
    {
     "data": {
      "text/plain": [
       "matrix([[2.5, 2.4],\n",
       "        [0.5, 0.7],\n",
       "        [2.2, 2.9],\n",
       "        [1.9, 2.2],\n",
       "        [3.1, 3. ],\n",
       "        [2.3, 2.7],\n",
       "        [2. , 1.6],\n",
       "        [1. , 1.1],\n",
       "        [1.5, 1.6],\n",
       "        [1.1, 0.9]])"
      ]
     },
     "execution_count": 12,
     "metadata": {},
     "output_type": "execute_result"
    }
   ],
   "source": [
    "data = np.mat([[2.5,2.4],[0.5,0.7],[2.2,2.9],[1.9,2.2],[3.1,3.0],[2.3,2.7],\n",
    "                [2,1.6],[1,1.1],[1.5,1.6],[1.1,0.9]])\n",
    "data"
   ]
  },
  {
   "cell_type": "code",
   "execution_count": 13,
   "metadata": {},
   "outputs": [
    {
     "name": "stdout",
     "output_type": "stream",
     "text": [
      "[1.81 1.91]\n"
     ]
    },
    {
     "data": {
      "text/plain": [
       "<matplotlib.collections.PathCollection at 0x7fbd926271d0>"
      ]
     },
     "execution_count": 13,
     "metadata": {},
     "output_type": "execute_result"
    },
    {
     "data": {
      "image/png": "[encoded data removed]",
      "text/plain": [
       "<matplotlib.figure.Figure at 0x7fbd9276b828>"
      ]
     },
     "metadata": {},
     "output_type": "display_data"
    }
   ],
   "source": [
    "mean_data = data.A.mean(axis=0)\n",
    "print(mean_data)\n",
    "plt.scatter(mean_data[0], mean_data[1])"
   ]
  },
  {
   "cell_type": "code",
   "execution_count": 14,
   "metadata": {},
   "outputs": [],
   "source": [
    "def pca(date_mat, max_rank=200):\n",
    "    date_mat = np.float32(np.mat(date_mat))\n",
    "    mean_value = np.mean(date_mat, axis=0)\n",
    "    mean_removed = date_mat - mean_value\n",
    "    cov_mat = np.cov(mean_removed, rowvar=0)\n",
    "    eig_vals, eig_vects = np.linalg.eig(cov_mat)\n",
    "    sort_vals = np.argsort(eig_vals)\n",
    "    select_vals = sort_vals[: -(max_rank + 1): -1]\n",
    "    select_vects = eig_vects[:, select_vals]\n",
    "    lowD = mean_removed * select_vects\n",
    "    reconMat = (lowD * select_vects.T) + mean_value\n",
    "    return lowD, select_vects, mean_value, eig_vects, reconMat"
   ]
  },
  {
   "cell_type": "code",
   "execution_count": 15,
   "metadata": {},
   "outputs": [
    {
     "data": {
      "text/plain": [
       "<matplotlib.collections.PathCollection at 0x7fbd925cf8d0>"
      ]
     },
     "execution_count": 15,
     "metadata": {},
     "output_type": "execute_result"
    },
    {
     "data": {
      "image/png": "[encoded data removed]",
      "text/plain": [
       "<matplotlib.figure.Figure at 0x7fbd925eae80>"
      ]
     },
     "metadata": {},
     "output_type": "display_data"
    }
   ],
   "source": [
    "lowD, select, mean_value, select_vects, reconMat = pca(data, 1 )\n",
    "data_mat = np.mat(data)\n",
    "fig = plt.figure()\n",
    "ax = fig.add_subplot(111)\n",
    "ax.scatter(data_mat[:,0].flatten().A[0], data_mat[:,1].flatten().A[0])\n",
    "ax.scatter(reconMat[:,0].A, reconMat[:,1].flatten().A)"
   ]
  },
  {
   "cell_type": "markdown",
   "metadata": {},
   "source": [
    "# 实验结果\n",
    "\n",
    "## ORL数据库\n",
    "\n",
    "图像112 * 92 \n",
    "\n",
    "40人每人10幅图像\n",
    "\n",
    "不同数量训练样本下ORL人脸数据库中的识别率比较\n",
    "\n",
    "| 训练样本 | 正确识别个数 | 总个数 | 识别率/% |\n",
    "| -------- | ------------ | ------ | -------- |\n",
    "| 1        | 247          | 360    | 61.1     |\n",
    "| 2        | 257          | 320    | 80.3     |\n",
    "| 3        | 261          | 280    | 93.2     |\n",
    "| 4        | 229          | 240    | 95.4     |\n",
    "| 5        | 182          | 200    | 91.0     |\n",
    "| 6        | 150          | 160    | 93.8     |\n",
    "| 7        | 117          | 120    | 97.5     |\n",
    "| 8        | 76           | 80     | 95.0     |\n",
    "| 9        | 39           | 40     | 97.5     |\n",
    "\n",
    "不同特征维数在ORL人脸数据库重的识别率比较\n",
    "\n",
    "| 选取子空间维数 | 正确识别 | 识别率/% |\n",
    "| -------------- | -------- | -------- |\n",
    "| 1              | 25       | 12.5     |\n",
    "| 11             | 194      | 97.0     |\n",
    "| 21             | 197      | 98.5     |\n",
    "| 31             | 197      | 98.5     |\n",
    "| 41             | 192      | 96.0     |\n",
    "| 51             | 194      | 97.0     |\n",
    "| 61             | 194      | 97.0     |\n",
    "| 71             | 195      | 97.5     |\n",
    "| 81             | 193      | 96.5     |\n",
    "| 91             | 193      | 96.5     |\n",
    "\n",
    "## YALE数据库\n",
    "不同数量训练样本下YALE人脸数据库中的识别率比较\n",
    "\n",
    "| 训练样本 | 正确识别个数 | 总个数 | 识别率/% |\n",
    "| -------- | ------------ | ------ | -------- |\n",
    "| 1        | 103          | 150    | 68.7     |\n",
    "| 2        | 93           | 135    | 68.9     |\n",
    "| 3        | 88           | 120    | 73.3     |\n",
    "| 4        | 97           | 105    | 92.4     |\n",
    "| 5        | 82           | 90     | 91.1     |\n",
    "| 6        | 72           | 75     | 96.0     |\n",
    "| 7        | 54           | 60     | 90.0     |\n",
    "| 8        | 43           | 45     | 95.6     |\n",
    "| 9        | 28           | 30     | 93.3     |\n",
    "\n",
    "不同特征维数在YALE人脸数据库重的识别率比较\n",
    "\n",
    "| 选取子空间维数 | 正确识别 | 识别率/% |\n",
    "| -------------- | -------- | -------- |\n",
    "| 1              | 55       | 27.5     |\n",
    "| 11             | 129      | 64.5     |\n",
    "| 21             | 122      | 61.0     |\n",
    "| 31             | 136      | 68.0     |\n",
    "| 41             | 125      | 62.5     |\n",
    "| 51             | 131      | 65.5     |\n",
    "| 61             | 128      | 64.0     |\n",
    "| 71             | 135      | 67.5     |\n",
    "| 81             | 148      | 74.0     |\n",
    "| 91             | 122      | 61.0     |\n",
    "\n",
    "\n"
   ]
  }
 ],
 "metadata": {
  "interpreter": {
   "hash": "4ce0e62306dd6a5716965d4519ada776f947e6dfc145b604b11307c10277ef29"
  },
  "kernelspec": {
   "display_name": "Python 3",
   "language": "python",
   "name": "python3"
  },
  "language_info": {
   "codemirror_mode": {
    "name": "ipython",
    "version": 3
   },
   "file_extension": ".py",
   "mimetype": "text/x-python",
   "name": "python",
   "nbconvert_exporter": "python",
   "pygments_lexer": "ipython3",
   "version": "3.6.2"
  }
 },
 "nbformat": 4,
 "nbformat_minor": 2
}
