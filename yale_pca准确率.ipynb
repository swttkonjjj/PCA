{
 "cells": [
  {
   "cell_type": "code",
   "execution_count": 36,
   "metadata": {},
   "outputs": [],
   "source": [
    "import numpy as np\n",
    "import numpy.linalg as linalg\n",
    "import matplotlib.pyplot as plt\n",
    "import cv2\n",
    "import random\n",
    "from PIL import Image\n"
   ]
  },
  {
   "cell_type": "code",
   "execution_count": 37,
   "metadata": {},
   "outputs": [],
   "source": [
    "def pca(date_mat, max_rank=200):\n",
    "    date_mat = np.float32(np.mat(date_mat))\n",
    "    mean_value = np.mean(date_mat, axis=0)\n",
    "    mean_removed = date_mat - mean_value\n",
    "    # cov_mat = mean_removed * mean_removed.T\n",
    "    # print(mean_removed.shape)\n",
    "    cov_mat = np.cov(mean_removed, rowvar=0)\n",
    "    # print(cov_mat.shape)\n",
    "    eig_vals, eig_vects = np.linalg.eig(cov_mat)\n",
    "    sort_vals = np.argsort(eig_vals)\n",
    "    select_vals = sort_vals[: -(max_rank + 1): -1]\n",
    "    select_vects = eig_vects[:, select_vals]\n",
    "    # select_vects = mean_removed.T * select_vects\n",
    "    lowD = mean_removed * select_vects\n",
    "    return lowD, select_vects, mean_value"
   ]
  },
  {
   "cell_type": "code",
   "execution_count": 38,
   "metadata": {},
   "outputs": [],
   "source": [
    "def knn(inX, dataSet, labels, k):\n",
    "    inX = np.array(inX)\n",
    "    dataSet = np.array(dataSet)\n",
    "    labels = np.array(labels)\n",
    "\n",
    "    dataSetSize = dataSet.shape[0]\n",
    "    diffMat = np.tile(inX, (dataSetSize, 1)) - dataSet\n",
    "    sqDiffMat = diffMat ** 2\n",
    "    sqDistance = sqDiffMat.sum(axis=1)\n",
    "    distance = sqDistance ** 0.5\n",
    "    sorteedDisttTndices = distance.argsort()\n",
    "    classCount = {}\n",
    "    for i in range(k):\n",
    "        voteIlabel = labels[sorteedDisttTndices[i]]\n",
    "        classCount[voteIlabel] = classCount.get(voteIlabel, 0) + 1\n",
    "    sortedClassCount = sorted(\n",
    "        classCount.items(), key=lambda d: d[1], reverse=True)\n",
    "    return sortedClassCount[0][0]"
   ]
  },
  {
   "cell_type": "code",
   "execution_count": 39,
   "metadata": {},
   "outputs": [],
   "source": [
    "def loadImage(image_path):\n",
    "    # print(image_path)\n",
    "    image = Image.open(image_path)\n",
    "    image = cv2.cvtColor(np.asarray(image),cv2.COLOR_RGB2BGR)\n",
    "#     print(image.shape)\n",
    "    image = cv2.resize(image, None, fx=0.065, fy=0.065)\n",
    "#     print(image.shape)\n",
    "    image = image.flatten()\n",
    "    # print(image.shape)\n",
    "    return image"
   ]
  },
  {
   "cell_type": "code",
   "execution_count": 40,
   "metadata": {},
   "outputs": [],
   "source": [
    "def loadData(test_image_path, data_path=\"yalefaces/yalefaces/\"):\n",
    "    train_data = []\n",
    "    train_lable = []\n",
    "    test_data = []\n",
    "    face_label = [\"centerlight\", \"glasses\", \"happy\", \"leftlight\", \"noglasses\", \"normal\",\n",
    "                  \"rightlight\", \"sad\", \"sleepy\", \"surprised\", \"wink\"]\n",
    "    test_data.append(loadImage(test_image_path))\n",
    "    for i in range(1, 16):\n",
    "        train_path = data_path + \"subject\" \n",
    "        if i < 10:\n",
    "            train_path += '0'\n",
    "        train_path += str(i)\n",
    "        for label in face_label:\n",
    "            train_image_path = train_path + '.'+ label + \".gif\"\n",
    "        if test_image_path == train_image_path:\n",
    "            continue\n",
    "        # print(train_image_path)\n",
    "        train_data.append(loadImage(train_image_path))\n",
    "        train_lable.append(train_path)\n",
    "    return train_data, train_lable, test_data"
   ]
  },
  {
   "cell_type": "code",
   "execution_count": 41,
   "metadata": {},
   "outputs": [],
   "source": [
    "def main(max_rank):\n",
    "    face_label = [\"centerlight\", \"glasses\", \"happy\", \"leftlight\", \"noglasses\", \"normal\",\n",
    "                  \"rightlight\", \"sad\", \"sleepy\", \"surprised\", \"wink\"]\n",
    "    person = random.randint(1, 15)\n",
    "    picture = random.randint(0, 10)\n",
    "    test_face = \"yalefaces/yalefaces/subject\" \n",
    "    test_lable = test_face\n",
    "    if person < 10:\n",
    "        test_lable += '0'\n",
    "    test_lable += str(person)\n",
    "    test_face = test_lable + \".\" + face_label[picture] + \".gif\"\n",
    "\n",
    "    train_data, train_lable, test_data = loadData(test_face)\n",
    "    lowD, select_vects, mean_value = pca(train_data, max_rank)\n",
    "    test_data -= mean_value\n",
    "    test_data = np.mat(test_data) * np.mat(select_vects)\n",
    "    best_match = knn(test_data, lowD, train_lable, 1)\n",
    "    \n",
    "    accuracy = [0,0]\n",
    "    if best_match == test_lable:\n",
    "        accuracy[0] += 1\n",
    "    else:\n",
    "        accuracy[1] += 1\n",
    "        \n",
    "    return accuracy[0] / (accuracy[0] + accuracy[1])\n",
    "#     image = np.array(Image.open(test_face))\n",
    "#     image2 = np.array(Image.open(best_match))\n",
    "#     plt.figure()\n",
    "#     plt.subplot(1, 2, 1)\n",
    "#     plt.imshow(image, cmap=\"gray\")\n",
    "#     plt.title(\"test\")\n",
    "#     plt.axis('off')\n",
    "#     plt.subplot(1, 2, 2)\n",
    "#     plt.imshow(image2, cmap=\"gray\")\n",
    "#     plt.title(\"most-similar\")\n",
    "#     # 隐藏坐标系\n",
    "#     plt.axis('off')\n",
    "#     # 展示图片\n",
    "#     plt.show()\n",
    "    # image = cv2.imread('orl_faces/s1/1.pgm', -1)\n",
    "#     print(image)"
   ]
  },
  {
   "cell_type": "code",
   "execution_count": 42,
   "metadata": {},
   "outputs": [
    {
     "name": "stdout",
     "output_type": "stream",
     "text": [
      "[27.5, 64.5, 61.0, 68.0, 62.5, 65.5, 64.0, 67.5, 74.0, 61.0]\n"
     ]
    }
   ],
   "source": [
    "plt.figure(1)\n",
    "m = []\n",
    "rate = 0\n",
    "\n",
    "accuracy = []\n",
    "for i in range(1,100, 10):\n",
    "    rate = 0\n",
    "    for j in range(200):\n",
    "        rate += main(i)\n",
    "    accuracy.append(rate / 2)\n",
    "    m.append(i)\n",
    "    \n",
    "plt.plot(m,accuracy,\".-\")\n",
    "plt.draw()#注意此函数需要调用\n",
    "print(accuracy)"
   ]
  },
  {
   "cell_type": "markdown",
   "metadata": {},
   "source": [
    "## YALE数据库\n",
    "\n",
    "| 选取子空间维数 | 正确识别 | 识别率/% |\n",
    "| :------------: | :------: | :------: |\n",
    "|       1        |    55    |   27.5   |\n",
    "|       11       |   129    |   64.5   |\n",
    "|       21       |   122    |   61.0   |\n",
    "|       31       |   136    |   68.0   |\n",
    "|       41       |   125    |   62.5   |\n",
    "|       51       |   131    |   65.5   |\n",
    "|       61       |   128    |   64.0   |\n",
    "|       71       |   135    |   67.5   |\n",
    "|       81       |   148    |   74.0   |\n",
    "|       91       |   122    |   61.0   |"
   ]
  }
 ],
 "metadata": {
  "interpreter": {
   "hash": "4ce0e62306dd6a5716965d4519ada776f947e6dfc145b604b11307c10277ef29"
  },
  "kernelspec": {
   "display_name": "Python 3",
   "language": "python",
   "name": "python3"
  },
  "language_info": {
   "codemirror_mode": {
    "name": "ipython",
    "version": 3
   },
   "file_extension": ".py",
   "mimetype": "text/x-python",
   "name": "python",
   "nbconvert_exporter": "python",
   "pygments_lexer": "ipython3",
   "version": "3.6.2"
  }
 },
 "nbformat": 4,
 "nbformat_minor": 2
}
